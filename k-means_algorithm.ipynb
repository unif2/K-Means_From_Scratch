{
 "cells": [
  {
   "cell_type": "code",
   "execution_count": 182,
   "metadata": {},
   "outputs": [],
   "source": [
    "import numpy as np\n",
    "import random\n",
    "import string\n",
    "import matplotlib.pyplot as plt\n",
    "% matplotlib inline"
   ]
  },
  {
   "cell_type": "code",
   "execution_count": 183,
   "metadata": {},
   "outputs": [],
   "source": [
    "def initialize_classes(k, points):\n",
    "    \"\"\"\n",
    "    This function takes in the number of classes,k, you want\n",
    "    and it takes in the array of points, points, and returns a dictionary\n",
    "    d[point] = class, where the class is assigned randomly with the restriction\n",
    "    being at least one point for each class and k < number of points\n",
    "    \"\"\"\n",
    "    d={}\n",
    "    init_classes = []\n",
    "    num_pnts = len(points)\n",
    "    if k >= num_pnts:\n",
    "        return 'k must be less than ' + str(num_pnts)\n",
    "    while len(set(init_classes)) < k:\n",
    "        init_classes = []\n",
    "        for i in range(num_pnts):\n",
    "            init_classes.append(random.choice(string.ascii_letters[0:k]))\n",
    "    for c in init_classes:\n",
    "        indices = [i for i, x in enumerate(init_classes) if x == c]\n",
    "        for i in indices:\n",
    "            d[tuple(points[i])] = c\n",
    "    return d"
   ]
  },
  {
   "cell_type": "code",
   "execution_count": 184,
   "metadata": {},
   "outputs": [],
   "source": [
    "def closest_cluster(d):\n",
    "    \"\"\"\n",
    "    This function takes in the dictionary, d, of point,class pairs,\n",
    "    computes each cluster center, and re-assigns each point to the class\n",
    "    whose center it is closest to and returns the updated dictionary\n",
    "    \"\"\"\n",
    "    labels = set(d.values())\n",
    "    cluster_centers = {}\n",
    "    new_d = {}\n",
    "    for label in labels:\n",
    "        keys = [np.array(i) for i,x in d.items() if x==label]\n",
    "        center = np.mean(keys, axis=0)\n",
    "        cluster_centers[label] = center\n",
    "    for point in d.keys():\n",
    "        distances = []\n",
    "        for k,v in cluster_centers.items():\n",
    "            dist = np.dot(np.array(point)-v, np.array(point)-v)\n",
    "            distances.append((dist, k))\n",
    "        closest_cluster = min(distances)[1]\n",
    "        new_d[point] = closest_cluster\n",
    "    return new_d"
   ]
  },
  {
   "cell_type": "code",
   "execution_count": 185,
   "metadata": {},
   "outputs": [],
   "source": [
    "def k_means(k, points):\n",
    "    \"\"\"\n",
    "    This function takes in the number of classes,k, you want\n",
    "    and it takes in the array of points, points, and runs closest_cluster\n",
    "    until no more changes take place\n",
    "    \"\"\"\n",
    "    d = initialize_classes(k, points)\n",
    "    old_d = {}\n",
    "    while len({k: old_d[k] for k in old_d if k in d and old_d[k] == d[k]}) != len(points):\n",
    "        old_d = d\n",
    "        d = closest_cluster(d)\n",
    "    return d"
   ]
  },
  {
   "cell_type": "code",
   "execution_count": 186,
   "metadata": {},
   "outputs": [],
   "source": [
    "k = 3 # We want three classes\n",
    "points = np.array([[1,1], [10,10],[10,1],[10.5,2],[11,1],[1.5,1.5],[2,1.3],[10.5,10.8],[11,11],[11.5,11.5],[10.3,10.3]])"
   ]
  },
  {
   "cell_type": "code",
   "execution_count": 214,
   "metadata": {},
   "outputs": [
    {
     "data": {
      "text/plain": [
       "<matplotlib.collections.PathCollection at 0x117664390>"
      ]
     },
     "execution_count": 214,
     "metadata": {},
     "output_type": "execute_result"
    },
    {
     "data": {
      "image/png": "[encoded data removed]",
      "text/plain": [
       "<Figure size 432x288 with 1 Axes>"
      ]
     },
     "metadata": {},
     "output_type": "display_data"
    }
   ],
   "source": [
    "d = initialize_classes(k, points)\n",
    "color_dict = {'a':'red','b':'blue','c':'green'}\n",
    "plt.scatter(*zip(*d.keys()), color=[color_dict[i] for i in d.values()])\n",
    "# At first, each point has been assigned a random class label"
   ]
  },
  {
   "cell_type": "code",
   "execution_count": 215,
   "metadata": {},
   "outputs": [
    {
     "data": {
      "text/plain": [
       "<matplotlib.collections.PathCollection at 0x1174430f0>"
      ]
     },
     "execution_count": 215,
     "metadata": {},
     "output_type": "execute_result"
    },
    {
     "data": {
      "image/png": "[encoded data removed]",
      "text/plain": [
       "<Figure size 432x288 with 1 Axes>"
      ]
     },
     "metadata": {},
     "output_type": "display_data"
    }
   ],
   "source": [
    "d = k_means(k, points)\n",
    "color_dict = {'a':'red','b':'blue','c':'green'}\n",
    "plt.scatter(*zip(*d.keys()), color=[color_dict[i] for i in d.values()])\n",
    "# Depending on how class labels were first distributed, you might get different results in the end.\n",
    "# Here, you'll see that the algorithm found two classes, one at the top, and one at the bottom.\n",
    "# Not exactly what you'd expect"
   ]
  },
  {
   "cell_type": "code",
   "execution_count": 216,
   "metadata": {},
   "outputs": [
    {
     "data": {
      "text/plain": [
       "<matplotlib.collections.PathCollection at 0x1173f1780>"
      ]
     },
     "execution_count": 216,
     "metadata": {},
     "output_type": "execute_result"
    },
    {
     "data": {
      "image/png": "[encoded data removed]",
      "text/plain": [
       "<Figure size 432x288 with 1 Axes>"
      ]
     },
     "metadata": {},
     "output_type": "display_data"
    }
   ],
   "source": [
    "d = k_means(k, points)\n",
    "color_dict = {'a':'red','b':'blue','c':'green'}\n",
    "plt.scatter(*zip(*d.keys()), color=[color_dict[i] for i in d.values()])\n",
    "# A different random class initialization has led to and end result with three class labels"
   ]
  },
  {
   "cell_type": "code",
   "execution_count": null,
   "metadata": {},
   "outputs": [],
   "source": []
  }
 ],
 "metadata": {
  "kernelspec": {
   "display_name": "Python 3",
   "language": "python",
   "name": "python3"
  },
  "language_info": {
   "codemirror_mode": {
    "name": "ipython",
    "version": 3
   },
   "file_extension": ".py",
   "mimetype": "text/x-python",
   "name": "python",
   "nbconvert_exporter": "python",
   "pygments_lexer": "ipython3",
   "version": "3.6.5"
  }
 },
 "nbformat": 4,
 "nbformat_minor": 2
}
